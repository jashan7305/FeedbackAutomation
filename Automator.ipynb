{
 "cells": [
  {
   "cell_type": "code",
   "execution_count": null,
   "metadata": {},
   "outputs": [],
   "source": [
    "from selenium import webdriver\n",
    "from selenium.webdriver.common.by import By\n",
    "from selenium.webdriver.support.ui import WebDriverWait\n",
    "from selenium.webdriver.support import expected_conditions as EC\n",
    "import time\n",
    "import random\n",
    "from dotenv import load_dotenv\n",
    "import os"
   ]
  },
  {
   "cell_type": "code",
   "execution_count": 42,
   "metadata": {},
   "outputs": [],
   "source": [
    "load_dotenv(\".env\", override=True)\n",
    "username = os.getenv(\"USERNAME\")\n",
    "password = os.getenv(\"PASSWORD\")"
   ]
  },
  {
   "cell_type": "code",
   "execution_count": 12,
   "metadata": {},
   "outputs": [],
   "source": [
    "def get_rating(quetion):\n",
    "    if \"Rashmi\" in quetion:\n",
    "        return \"6\"\n",
    "    if \"Gaurav\" in quetion:\n",
    "        return \"6\"\n",
    "    if \"Jaykrishna\" in quetion:\n",
    "        return \"7\"\n",
    "    if \"Siba\" in quetion:\n",
    "        return \"7\"\n",
    "    if \"Krishnan\" in quetion:\n",
    "        return \"6\"\n",
    "    if \"Maaz\" in quetion:\n",
    "        return \"6\"\n",
    "    if \"Bhushan\" in quetion:\n",
    "        return \"5\"\n",
    "    return random.choice([\"6\", \"7\"])\n",
    "    \n",
    "def get_answer_id(page_num, question_num):\n",
    "    return \"answer\" + str(page_num) + str(question_num)\n",
    "\n",
    "def get_question_xpath(page_num, question_num):\n",
    "    odd_nums = [1, 3, 5, 7, 9, 11, 13, 15, 17, 19, 21, 23]\n",
    "    return f\"//*[@id='studentFeedbackForm-{page_num+1}']/div[1]/div[1]/div[3]/div[\" + str(odd_nums[question_num]) + \"]/div/label\""
   ]
  },
  {
   "cell_type": "code",
   "execution_count": 34,
   "metadata": {},
   "outputs": [],
   "source": [
    "driver = webdriver.Chrome()\n",
    "driver.get(\"https://portal.svkm.ac.in/usermgmt/login\")"
   ]
  },
  {
   "cell_type": "code",
   "execution_count": 35,
   "metadata": {},
   "outputs": [],
   "source": [
    "WebDriverWait(driver, 10).until(EC.visibility_of_all_elements_located((By.ID, \"userName\")))[0].send_keys(username)\n",
    "WebDriverWait(driver, 10).until(EC.visibility_of_all_elements_located((By.ID, \"userPwd\")))[0].send_keys(password)\n",
    "WebDriverWait(driver, 10).until(EC.visibility_of_all_elements_located((By.ID, \"userLogin\")))[0].click()"
   ]
  },
  {
   "cell_type": "code",
   "execution_count": 36,
   "metadata": {},
   "outputs": [],
   "source": [
    "driver.find_element(By.LINK_TEXT, \"Faculty Feedback_B Tech-DS_Sem IV_2024-25\").click()"
   ]
  },
  {
   "cell_type": "code",
   "execution_count": 37,
   "metadata": {},
   "outputs": [],
   "source": [
    "driver.find_element(By.LINK_TEXT, \"Provide Feedback\").click()"
   ]
  },
  {
   "cell_type": "code",
   "execution_count": 38,
   "metadata": {},
   "outputs": [
    {
     "name": "stdout",
     "output_type": "stream",
     "text": [
      "Page number:  1\n",
      "Page number:  2\n",
      "Page number:  3\n",
      "Page number:  4\n",
      "Page number:  5\n",
      "Page number:  6\n",
      "Page number:  7\n",
      "Page number:  8\n",
      "Page number:  9\n",
      "Page number:  10\n",
      "Page number:  11\n",
      "do the last pages manually\n"
     ]
    }
   ],
   "source": [
    "page_num = 0\n",
    "while page_num < 13:\n",
    "    if page_num == 11:\n",
    "        print(\"do the last pages manually\")\n",
    "        break    \n",
    "    for i in range(12):\n",
    "        xpath = get_question_xpath(page_num=page_num, question_num=i)\n",
    "        question = driver.find_element(By.XPATH, xpath).text\n",
    "        rating = get_rating(question)\n",
    "        id = get_answer_id(page_num=page_num, question_num=i)\n",
    "        answer = driver.find_element(By.ID, id)\n",
    "        answer.send_keys(rating)\n",
    "    if page_num != 12:\n",
    "        print(\"Page number: \", page_num+1)\n",
    "        if page_num == 0:\n",
    "            submit_btn = driver.find_element(By.ID, \"btn\" + str(page_num + 1))\n",
    "        else:\n",
    "            submit_btn = driver.find_elements(By.ID, \"btn\" + str(page_num + 1))[1]\n",
    "        submit_btn.click()\n",
    "        time.sleep(5)\n",
    "        page_num += 1\n",
    "    else:\n",
    "        print(\"done\")"
   ]
  },
  {
   "cell_type": "code",
   "execution_count": 33,
   "metadata": {},
   "outputs": [],
   "source": [
    "driver.quit()"
   ]
  },
  {
   "cell_type": "code",
   "execution_count": null,
   "metadata": {},
   "outputs": [],
   "source": []
  },
  {
   "cell_type": "code",
   "execution_count": null,
   "metadata": {},
   "outputs": [],
   "source": []
  }
 ],
 "metadata": {
  "kernelspec": {
   "display_name": "base",
   "language": "python",
   "name": "python3"
  },
  "language_info": {
   "codemirror_mode": {
    "name": "ipython",
    "version": 3
   },
   "file_extension": ".py",
   "mimetype": "text/x-python",
   "name": "python",
   "nbconvert_exporter": "python",
   "pygments_lexer": "ipython3",
   "version": "3.12.7"
  }
 },
 "nbformat": 4,
 "nbformat_minor": 2
}
